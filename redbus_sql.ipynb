{
 "cells": [
  {
   "cell_type": "code",
   "execution_count": 15,
   "id": "07a28502-e028-43ae-acb1-eb9c0c489bc8",
   "metadata": {},
   "outputs": [],
   "source": [
    "\n",
    "#importing libraries\n",
    "import pandas as pd\n",
    "import mysql.connector\n",
    "import numpy as np"
   ]
  },
  {
   "cell_type": "code",
   "execution_count": 18,
   "id": "6563f28e-82e1-415e-9a96-34d780f9ad3b",
   "metadata": {},
   "outputs": [
    {
     "data": {
      "text/html": [
       "<div>\n",
       "<style scoped>\n",
       "    .dataframe tbody tr th:only-of-type {\n",
       "        vertical-align: middle;\n",
       "    }\n",
       "\n",
       "    .dataframe tbody tr th {\n",
       "        vertical-align: top;\n",
       "    }\n",
       "\n",
       "    .dataframe thead th {\n",
       "        text-align: right;\n",
       "    }\n",
       "</style>\n",
       "<table border=\"1\" class=\"dataframe\">\n",
       "  <thead>\n",
       "    <tr style=\"text-align: right;\">\n",
       "      <th></th>\n",
       "      <th>Bus_name</th>\n",
       "      <th>Bus_type</th>\n",
       "      <th>Start_time</th>\n",
       "      <th>End_time</th>\n",
       "      <th>Total_duration</th>\n",
       "      <th>Price</th>\n",
       "      <th>Seats_Available</th>\n",
       "      <th>Ratings</th>\n",
       "      <th>Route_link</th>\n",
       "      <th>Route_name</th>\n",
       "    </tr>\n",
       "  </thead>\n",
       "  <tbody>\n",
       "    <tr>\n",
       "      <th>0</th>\n",
       "      <td>TSRTC - 8625</td>\n",
       "      <td>RAJDHANI (A.C. Semi Sleeper)</td>\n",
       "      <td>21:00</td>\n",
       "      <td>01:00</td>\n",
       "      <td>04h 00m</td>\n",
       "      <td>INR 389</td>\n",
       "      <td>35 Seats available</td>\n",
       "      <td>3.6\\n44</td>\n",
       "      <td>https://www.redbus.in/bus-tickets/khammam-to-h...</td>\n",
       "      <td>Khammam to Hyderabad</td>\n",
       "    </tr>\n",
       "    <tr>\n",
       "      <th>1</th>\n",
       "      <td>TSRTC - 8619</td>\n",
       "      <td>RAJDHANI (A.C. Semi Sleeper)</td>\n",
       "      <td>22:00</td>\n",
       "      <td>02:00</td>\n",
       "      <td>04h 00m</td>\n",
       "      <td>INR 389</td>\n",
       "      <td>35 Seats available</td>\n",
       "      <td>4.0\\n69</td>\n",
       "      <td>https://www.redbus.in/bus-tickets/khammam-to-h...</td>\n",
       "      <td>Khammam to Hyderabad</td>\n",
       "    </tr>\n",
       "    <tr>\n",
       "      <th>2</th>\n",
       "      <td>TSRTC - 64593</td>\n",
       "      <td>SUPER LUXURY (NON-AC, 2 + 2 PUSH BACK)</td>\n",
       "      <td>22:30</td>\n",
       "      <td>02:25</td>\n",
       "      <td>03h 55m</td>\n",
       "      <td>INR 320</td>\n",
       "      <td>28 Seats available</td>\n",
       "      <td>4.7\\n26</td>\n",
       "      <td>https://www.redbus.in/bus-tickets/khammam-to-h...</td>\n",
       "      <td>Khammam to Hyderabad</td>\n",
       "    </tr>\n",
       "    <tr>\n",
       "      <th>3</th>\n",
       "      <td>TSRTC - 8827</td>\n",
       "      <td>SUPER LUXURY (NON-AC, 2 + 2 PUSH BACK)</td>\n",
       "      <td>22:55</td>\n",
       "      <td>03:20</td>\n",
       "      <td>04h 25m</td>\n",
       "      <td>INR 320</td>\n",
       "      <td>19 Seats available</td>\n",
       "      <td>4.8\\n6</td>\n",
       "      <td>https://www.redbus.in/bus-tickets/khammam-to-h...</td>\n",
       "      <td>Khammam to Hyderabad</td>\n",
       "    </tr>\n",
       "    <tr>\n",
       "      <th>4</th>\n",
       "      <td>TSRTC - 8644</td>\n",
       "      <td>SUPER LUXURY (NON-AC, 2 + 2 PUSH BACK)</td>\n",
       "      <td>23:10</td>\n",
       "      <td>03:20</td>\n",
       "      <td>04h 10m</td>\n",
       "      <td>INR 320</td>\n",
       "      <td>27 Seats available</td>\n",
       "      <td>3.9\\n50</td>\n",
       "      <td>https://www.redbus.in/bus-tickets/khammam-to-h...</td>\n",
       "      <td>Khammam to Hyderabad</td>\n",
       "    </tr>\n",
       "    <tr>\n",
       "      <th>...</th>\n",
       "      <td>...</td>\n",
       "      <td>...</td>\n",
       "      <td>...</td>\n",
       "      <td>...</td>\n",
       "      <td>...</td>\n",
       "      <td>...</td>\n",
       "      <td>...</td>\n",
       "      <td>...</td>\n",
       "      <td>...</td>\n",
       "      <td>...</td>\n",
       "    </tr>\n",
       "    <tr>\n",
       "      <th>2668</th>\n",
       "      <td>Bihar state road transport corporation (BSRTC)...</td>\n",
       "      <td>Volvo AC Seater 2+2</td>\n",
       "      <td>15:30</td>\n",
       "      <td>05:00</td>\n",
       "      <td>13h 30m</td>\n",
       "      <td>INR 1206</td>\n",
       "      <td>14 Seats available</td>\n",
       "      <td>4.3\\n15</td>\n",
       "      <td>https://www.redbus.in/bus-tickets/motihari-to-...</td>\n",
       "      <td>Motihari to Agra</td>\n",
       "    </tr>\n",
       "    <tr>\n",
       "      <th>2669</th>\n",
       "      <td>Bihar state road transport corporation (BSRTC)...</td>\n",
       "      <td>Volvo AC Seater 2+2</td>\n",
       "      <td>17:20</td>\n",
       "      <td>08:00</td>\n",
       "      <td>14h 40m</td>\n",
       "      <td>INR 1300</td>\n",
       "      <td>15 Seats available</td>\n",
       "      <td>2.3\\n7</td>\n",
       "      <td>https://www.redbus.in/bus-tickets/motihari-to-...</td>\n",
       "      <td>Motihari to Agra</td>\n",
       "    </tr>\n",
       "    <tr>\n",
       "      <th>2670</th>\n",
       "      <td>Panwar Travels</td>\n",
       "      <td>A/C Sleeper (2+1)</td>\n",
       "      <td>15:40</td>\n",
       "      <td>06:15</td>\n",
       "      <td>14h 35m</td>\n",
       "      <td>INR 3000</td>\n",
       "      <td>24 Seats available</td>\n",
       "      <td>2.8</td>\n",
       "      <td>https://www.redbus.in/bus-tickets/motihari-to-...</td>\n",
       "      <td>Motihari to Agra</td>\n",
       "    </tr>\n",
       "    <tr>\n",
       "      <th>2671</th>\n",
       "      <td>Shree Balajee Travels And Cargo</td>\n",
       "      <td>A/C Seater / Sleeper (2+1)</td>\n",
       "      <td>15:00</td>\n",
       "      <td>06:43</td>\n",
       "      <td>15h 43m</td>\n",
       "      <td>INR 1799</td>\n",
       "      <td>35 Seats available</td>\n",
       "      <td>1.3</td>\n",
       "      <td>https://www.redbus.in/bus-tickets/motihari-to-...</td>\n",
       "      <td>Motihari to Agra</td>\n",
       "    </tr>\n",
       "    <tr>\n",
       "      <th>2672</th>\n",
       "      <td>Travel Point World LLP</td>\n",
       "      <td>A/C Seater / Sleeper (2+2)</td>\n",
       "      <td>18:20</td>\n",
       "      <td>06:50</td>\n",
       "      <td>12h 30m</td>\n",
       "      <td>2374</td>\n",
       "      <td>38 Seats available</td>\n",
       "      <td>1.5</td>\n",
       "      <td>https://www.redbus.in/bus-tickets/motihari-to-...</td>\n",
       "      <td>Motihari to Agra</td>\n",
       "    </tr>\n",
       "  </tbody>\n",
       "</table>\n",
       "<p>2673 rows × 10 columns</p>\n",
       "</div>"
      ],
      "text/plain": [
       "                                               Bus_name  \\\n",
       "0                                          TSRTC - 8625   \n",
       "1                                          TSRTC - 8619   \n",
       "2                                         TSRTC - 64593   \n",
       "3                                          TSRTC - 8827   \n",
       "4                                          TSRTC - 8644   \n",
       "...                                                 ...   \n",
       "2668  Bihar state road transport corporation (BSRTC)...   \n",
       "2669  Bihar state road transport corporation (BSRTC)...   \n",
       "2670                                     Panwar Travels   \n",
       "2671                    Shree Balajee Travels And Cargo   \n",
       "2672                             Travel Point World LLP   \n",
       "\n",
       "                                    Bus_type Start_time End_time  \\\n",
       "0               RAJDHANI (A.C. Semi Sleeper)      21:00    01:00   \n",
       "1               RAJDHANI (A.C. Semi Sleeper)      22:00    02:00   \n",
       "2     SUPER LUXURY (NON-AC, 2 + 2 PUSH BACK)      22:30    02:25   \n",
       "3     SUPER LUXURY (NON-AC, 2 + 2 PUSH BACK)      22:55    03:20   \n",
       "4     SUPER LUXURY (NON-AC, 2 + 2 PUSH BACK)      23:10    03:20   \n",
       "...                                      ...        ...      ...   \n",
       "2668                     Volvo AC Seater 2+2      15:30    05:00   \n",
       "2669                     Volvo AC Seater 2+2      17:20    08:00   \n",
       "2670                       A/C Sleeper (2+1)      15:40    06:15   \n",
       "2671              A/C Seater / Sleeper (2+1)      15:00    06:43   \n",
       "2672              A/C Seater / Sleeper (2+2)      18:20    06:50   \n",
       "\n",
       "     Total_duration     Price     Seats_Available  Ratings  \\\n",
       "0           04h 00m   INR 389  35 Seats available  3.6\\n44   \n",
       "1           04h 00m   INR 389  35 Seats available  4.0\\n69   \n",
       "2           03h 55m   INR 320  28 Seats available  4.7\\n26   \n",
       "3           04h 25m   INR 320  19 Seats available   4.8\\n6   \n",
       "4           04h 10m   INR 320  27 Seats available  3.9\\n50   \n",
       "...             ...       ...                 ...      ...   \n",
       "2668        13h 30m  INR 1206  14 Seats available  4.3\\n15   \n",
       "2669        14h 40m  INR 1300  15 Seats available   2.3\\n7   \n",
       "2670        14h 35m  INR 3000  24 Seats available      2.8   \n",
       "2671        15h 43m  INR 1799  35 Seats available      1.3   \n",
       "2672        12h 30m      2374  38 Seats available      1.5   \n",
       "\n",
       "                                             Route_link            Route_name  \n",
       "0     https://www.redbus.in/bus-tickets/khammam-to-h...  Khammam to Hyderabad  \n",
       "1     https://www.redbus.in/bus-tickets/khammam-to-h...  Khammam to Hyderabad  \n",
       "2     https://www.redbus.in/bus-tickets/khammam-to-h...  Khammam to Hyderabad  \n",
       "3     https://www.redbus.in/bus-tickets/khammam-to-h...  Khammam to Hyderabad  \n",
       "4     https://www.redbus.in/bus-tickets/khammam-to-h...  Khammam to Hyderabad  \n",
       "...                                                 ...                   ...  \n",
       "2668  https://www.redbus.in/bus-tickets/motihari-to-...      Motihari to Agra  \n",
       "2669  https://www.redbus.in/bus-tickets/motihari-to-...      Motihari to Agra  \n",
       "2670  https://www.redbus.in/bus-tickets/motihari-to-...      Motihari to Agra  \n",
       "2671  https://www.redbus.in/bus-tickets/motihari-to-...      Motihari to Agra  \n",
       "2672  https://www.redbus.in/bus-tickets/motihari-to-...      Motihari to Agra  \n",
       "\n",
       "[2673 rows x 10 columns]"
      ]
     },
     "execution_count": 18,
     "metadata": {},
     "output_type": "execute_result"
    }
   ],
   "source": [
    "# csv to dataframe\n",
    "df_buses_1=pd.read_csv(\"df_buses_1.csv\")\n",
    "df_buses_2=pd.read_csv(\"df_buses_2.csv\")\n",
    "df_buses_3=pd.read_csv(\"df_buses_3.csv\")\n",
    "df_buses_4=pd.read_csv(\"df_buses_4.csv\")\n",
    "df_buses_5=pd.read_csv(\"df_buses_5.csv\")\n",
    "df_buses_6=pd.read_csv(\"df_buses_6.csv\")\n",
    "df_buses_7=pd.read_csv(\"df_buses_7.csv\")\n",
    "df_buses_8=pd.read_csv(\"df_buses_8.csv\")\n",
    "df_buses_9=pd.read_csv(\"df_buses_9.csv\")\n",
    "df_buses_10=pd.read_csv(\"df_buses_10.csv\")\n",
    "\n",
    "\n",
    "\n",
    "\n",
    "Final_df=pd.concat([df_buses_1,df_buses_2,df_buses_3,df_buses_4,df_buses_5,df_buses_6,\n",
    "                    df_buses_7,df_buses_8,df_buses_9,df_buses_10],ignore_index=True)\n",
    "Final_df"
   ]
  },
  {
   "cell_type": "code",
   "execution_count": null,
   "id": "48997c86-e107-48a2-b44e-e8b3f6479157",
   "metadata": {},
   "outputs": [],
   "source": [
    "#data cleaning"
   ]
  },
  {
   "cell_type": "code",
   "execution_count": 19,
   "id": "11e541fa-5cb6-49ec-9fe3-ffdfab825bbb",
   "metadata": {},
   "outputs": [
    {
     "name": "stdout",
     "output_type": "stream",
     "text": [
      "<class 'pandas.core.frame.DataFrame'>\n",
      "RangeIndex: 2673 entries, 0 to 2672\n",
      "Data columns (total 10 columns):\n",
      " #   Column           Non-Null Count  Dtype \n",
      "---  ------           --------------  ----- \n",
      " 0   Bus_name         2673 non-null   object\n",
      " 1   Bus_type         2673 non-null   object\n",
      " 2   Start_time       2673 non-null   object\n",
      " 3   End_time         2673 non-null   object\n",
      " 4   Total_duration   2673 non-null   object\n",
      " 5   Price            2673 non-null   object\n",
      " 6   Seats_Available  2673 non-null   object\n",
      " 7   Ratings          2673 non-null   object\n",
      " 8   Route_link       2673 non-null   object\n",
      " 9   Route_name       2673 non-null   object\n",
      "dtypes: object(10)\n",
      "memory usage: 209.0+ KB\n"
     ]
    }
   ],
   "source": [
    "# data about the data\n",
    "Final_df.info()"
   ]
  },
  {
   "cell_type": "code",
   "execution_count": 20,
   "id": "b34abff5-7bc4-4432-863b-5cfdb1ecbec3",
   "metadata": {},
   "outputs": [
    {
     "data": {
      "text/plain": [
       "0        389.0\n",
       "1        389.0\n",
       "2        320.0\n",
       "3        320.0\n",
       "4        320.0\n",
       "         ...  \n",
       "2668    1206.0\n",
       "2669    1300.0\n",
       "2670    3000.0\n",
       "2671    1799.0\n",
       "2672    2374.0\n",
       "Name: Price, Length: 2673, dtype: float64"
      ]
     },
     "execution_count": 20,
     "metadata": {},
     "output_type": "execute_result"
    }
   ],
   "source": [
    "#convert prices to numeric\n",
    "Final_df[\"Price\"]=Final_df[\"Price\"].str.replace(\"INR\",\"\")\n",
    "Final_df[\"Price\"]=Final_df[\"Price\"].astype(float)\n",
    "Final_df[\"Price\"].fillna(0) "
   ]
  },
  {
   "cell_type": "code",
   "execution_count": 21,
   "id": "0d83d90a-c410-4be6-a0c2-ab649d2ebde9",
   "metadata": {},
   "outputs": [
    {
     "name": "stderr",
     "output_type": "stream",
     "text": [
      "C:\\Users\\kallu\\AppData\\Local\\Temp\\ipykernel_19096\\709375803.py:6: FutureWarning: A value is trying to be set on a copy of a DataFrame or Series through chained assignment using an inplace method.\n",
      "The behavior will change in pandas 3.0. This inplace method will never work because the intermediate object on which we are setting values always behaves as a copy.\n",
      "\n",
      "For example, when doing 'df[col].method(value, inplace=True)', try using 'df.method({col: value}, inplace=True)' or df[col] = df[col].method(value) instead, to perform the operation inplace on the original object.\n",
      "\n",
      "\n",
      "  Final_df[\"Ratings\"].fillna(0,inplace=True)\n"
     ]
    }
   ],
   "source": [
    "#convert Ratings to numeric\n",
    "Final_df[\"Ratings\"]=Final_df[\"Ratings\"].str.replace(\"New\",\"\")\n",
    "Final_df[\"Ratings\"]=Final_df[\"Ratings\"].str.strip()\n",
    "Final_df[\"Ratings\"]=Final_df[\"Ratings\"].str.split().str[0]\n",
    "Final_df[\"Ratings\"] = pd.to_numeric(Final_df[\"Ratings\"], errors='coerce')\n",
    "Final_df[\"Ratings\"].fillna(0,inplace=True) "
   ]
  },
  {
   "cell_type": "code",
   "execution_count": 22,
   "id": "fb2ab991-7f32-4b4b-8f0f-95ff383fb561",
   "metadata": {},
   "outputs": [
    {
     "name": "stdout",
     "output_type": "stream",
     "text": [
      "<class 'pandas.core.frame.DataFrame'>\n",
      "RangeIndex: 2673 entries, 0 to 2672\n",
      "Data columns (total 10 columns):\n",
      " #   Column           Non-Null Count  Dtype  \n",
      "---  ------           --------------  -----  \n",
      " 0   Bus_name         2673 non-null   object \n",
      " 1   Bus_type         2673 non-null   object \n",
      " 2   Start_time       2673 non-null   object \n",
      " 3   End_time         2673 non-null   object \n",
      " 4   Total_duration   2673 non-null   object \n",
      " 5   Price            2673 non-null   float64\n",
      " 6   Seats_Available  2673 non-null   object \n",
      " 7   Ratings          2673 non-null   float64\n",
      " 8   Route_link       2673 non-null   object \n",
      " 9   Route_name       2673 non-null   object \n",
      "dtypes: float64(2), object(8)\n",
      "memory usage: 209.0+ KB\n"
     ]
    }
   ],
   "source": [
    "# info after the data type change\n",
    "Final_df.info()"
   ]
  },
  {
   "cell_type": "code",
   "execution_count": 23,
   "id": "f9c7bad7-7c52-40eb-87cd-226b4f1d5fd8",
   "metadata": {},
   "outputs": [],
   "source": [
    "Final_df = Final_df[Final_df[\"Price\"] <= 7000]"
   ]
  },
  {
   "cell_type": "code",
   "execution_count": 24,
   "id": "3c629e01-44ed-4423-ab57-ec22cb7573b8",
   "metadata": {},
   "outputs": [],
   "source": [
    "# replacing the nan value\n",
    "Final_df = Final_df.replace({np.nan: None})"
   ]
  },
  {
   "cell_type": "code",
   "execution_count": 25,
   "id": "de73e65c-8e1a-461a-8a6e-d7b15be9bcbf",
   "metadata": {},
   "outputs": [],
   "source": [
    "# change dataframe to csv\n",
    "path=r\"D:/Capstone projects/Redbus/bus_details.csv\"\n",
    "Final_df.to_csv(path,index=False)"
   ]
  },
  {
   "cell_type": "code",
   "execution_count": 26,
   "id": "6559750d-aac5-49df-bbf8-f4c34bdb056d",
   "metadata": {},
   "outputs": [],
   "source": [
    "#sql connection\n",
    "conn=mysql.connector.connect(host=\"localhost\", user=\"root\", password=\"susmitha@050\",database=\"RED_BUS\")\n",
    "my_cursor = conn.cursor()\n",
    "my_cursor.execute(\"CREATE DATABASE IF NOT EXISTS RED_BUS\")"
   ]
  },
  {
   "cell_type": "code",
   "execution_count": 27,
   "id": "8d47a154-968e-4c75-83bd-8d60186bf04e",
   "metadata": {},
   "outputs": [
    {
     "name": "stdout",
     "output_type": "stream",
     "text": [
      "Table Created successfully\n"
     ]
    }
   ],
   "source": [
    "# Table Creation\n",
    "my_cursor.execute('''CREATE TABLE IF NOT EXISTS bus_details(\n",
    "                  ID INT AUTO_INCREMENT PRIMARY KEY,\n",
    "                  Bus_name VARCHAR(255) NOT NULL,\n",
    "                  Bus_type VARCHAR(255) NOT NULL,\n",
    "                  Start_time VARCHAR(255) NOT NULL,\n",
    "                  End_time VARCHAR(255) NOT NULL,\n",
    "                  Total_duration VARCHAR(255) NOT NULL,\n",
    "                  Price FLOAT NULL,\n",
    "                  Seats_Available VARCHAR(255) NOT NULL,\n",
    "                  Ratings Float NULL,\n",
    "                  Route_link VARCHAR(255) NULL,\n",
    "                  Route_name VARCHAR(255) NULL\n",
    "                  )''')\n",
    "print(\"Table Created successfully\")"
   ]
  },
  {
   "cell_type": "code",
   "execution_count": 28,
   "id": "1c31ca73-9a1d-432e-8799-b766c8ba8a2b",
   "metadata": {},
   "outputs": [
    {
     "name": "stdout",
     "output_type": "stream",
     "text": [
      "Values inserted successfully\n"
     ]
    }
   ],
   "source": [
    "# SQL query to insert data into bus_details table\n",
    "insert_query = '''INSERT INTO bus_details(\n",
    "                    Bus_name,\n",
    "                    Bus_type,\n",
    "                    Start_time,\n",
    "                    End_time,\n",
    "                    Total_duration,\n",
    "                    Price,\n",
    "                    Seats_Available,\n",
    "                    Ratings,\n",
    "                    Route_link,\n",
    "                    Route_name)\n",
    "                  VALUES(%s, %s, %s, %s, %s, %s, %s, %s, %s, %s)'''\n",
    "data = Final_df.values.tolist()\n",
    "\n",
    "my_cursor.executemany(insert_query, data)\n",
    "\n",
    "conn.commit()\n",
    "\n",
    "print(\"Values inserted successfully\")"
   ]
  }
 ],
 "metadata": {
  "kernelspec": {
   "display_name": "Python 3 (ipykernel)",
   "language": "python",
   "name": "python3"
  },
  "language_info": {
   "codemirror_mode": {
    "name": "ipython",
    "version": 3
   },
   "file_extension": ".py",
   "mimetype": "text/x-python",
   "name": "python",
   "nbconvert_exporter": "python",
   "pygments_lexer": "ipython3",
   "version": "3.12.3"
  }
 },
 "nbformat": 4,
 "nbformat_minor": 5
}
